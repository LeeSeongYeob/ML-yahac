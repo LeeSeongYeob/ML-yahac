{
  "nbformat": 4,
  "nbformat_minor": 0,
  "metadata": {
    "colab": {
      "name": "보스턴집값예측.ipynb",
      "provenance": [],
      "collapsed_sections": []
    },
    "kernelspec": {
      "name": "python3",
      "display_name": "Python 3"
    }
  },
  "cells": [
    {
      "cell_type": "code",
      "metadata": {
        "id": "W1c9ieRB0OkG",
        "colab_type": "code",
        "colab": {
          "base_uri": "https://localhost:8080/",
          "height": 34
        },
        "outputId": "1774aca6-66fa-4090-cbd5-9621eaf04cde"
      },
      "source": [
        "# 라이브러리 호출\n",
        "import pandas as pd\n",
        "import tensorflow as tf\n",
        "print(tf.__version__)"
      ],
      "execution_count": 1,
      "outputs": [
        {
          "output_type": "stream",
          "text": [
            "2.3.0\n"
          ],
          "name": "stdout"
        }
      ]
    },
    {
      "cell_type": "code",
      "metadata": {
        "id": "FIds0QXQ0cgj",
        "colab_type": "code",
        "colab": {
          "base_uri": "https://localhost:8080/",
          "height": 70
        },
        "outputId": "edf72ff4-99b4-4d6c-8562-11d37a15e9f4"
      },
      "source": [
        "# 데아터 불러오기\n",
        "Path = 'https://raw.githubusercontent.com/blackdew/tensorflow1/master/csv/boston.csv'\n",
        "Boston = pd.read_csv(Path)\n",
        "Boston.head()\n",
        "print(Boston.columns)"
      ],
      "execution_count": 3,
      "outputs": [
        {
          "output_type": "stream",
          "text": [
            "Index(['crim', 'zn', 'indus', 'chas', 'nox', 'rm', 'age', 'dis', 'rad', 'tax',\n",
            "       'ptratio', 'b', 'lstat', 'medv'],\n",
            "      dtype='object')\n"
          ],
          "name": "stdout"
        }
      ]
    },
    {
      "cell_type": "code",
      "metadata": {
        "id": "9y0VyU0F0pyV",
        "colab_type": "code",
        "colab": {
          "base_uri": "https://localhost:8080/",
          "height": 34
        },
        "outputId": "048c7c8b-d8fd-4536-f594-2c1b5f146108"
      },
      "source": [
        "# 데이터 나누기\n",
        "x_train = Boston[['crim', 'zn', 'indus', 'chas', 'nox', 'rm', 'age', 'dis', 'rad', 'tax',\n",
        "       'ptratio', 'b', 'lstat']]\n",
        "y_train = Boston[['medv']]\n",
        "\n",
        "# shape 확인\n",
        "# 사용 하려는 data가 어떤 상황인지 체크하는 것이 좋음\n",
        "print(x_train.shape, y_train.shape)\n"
      ],
      "execution_count": 8,
      "outputs": [
        {
          "output_type": "stream",
          "text": [
            "(506, 13) (506, 1)\n"
          ],
          "name": "stdout"
        }
      ]
    },
    {
      "cell_type": "code",
      "metadata": {
        "id": "gdJdpLZt1GVp",
        "colab_type": "code",
        "colab": {}
      },
      "source": [
        "# 모델 구조 만들기\n",
        "X = tf.keras.layers.Input(shape=[13])   # 13개의 feature\n",
        "y = tf.keras.layers.Dense(1)(X)         # 1개의 output\n",
        "model = tf.keras.models.Model(X,y)\n",
        "model.compile(loss = 'mse')             # mse loss func"
      ],
      "execution_count": 28,
      "outputs": []
    },
    {
      "cell_type": "code",
      "metadata": {
        "id": "MzlxPlOC1nOd",
        "colab_type": "code",
        "colab": {
          "base_uri": "https://localhost:8080/",
          "height": 386
        },
        "outputId": "b794b135-c7a0-4e55-ba67-4bd245d882cf"
      },
      "source": [
        "# 모델 학습시키기\n",
        "model.fit(x_train, y_train, epochs= 1000,verbose=0)\n",
        "model.fit(x_train, y_train, epochs= 10)\n"
      ],
      "execution_count": 29,
      "outputs": [
        {
          "output_type": "stream",
          "text": [
            "Epoch 1/10\n",
            "16/16 [==============================] - 0s 935us/step - loss: 26.3681\n",
            "Epoch 2/10\n",
            "16/16 [==============================] - 0s 880us/step - loss: 26.6073\n",
            "Epoch 3/10\n",
            "16/16 [==============================] - 0s 857us/step - loss: 26.7200\n",
            "Epoch 4/10\n",
            "16/16 [==============================] - 0s 854us/step - loss: 26.5226\n",
            "Epoch 5/10\n",
            "16/16 [==============================] - 0s 980us/step - loss: 26.5478\n",
            "Epoch 6/10\n",
            "16/16 [==============================] - 0s 884us/step - loss: 26.5001\n",
            "Epoch 7/10\n",
            "16/16 [==============================] - 0s 963us/step - loss: 26.2296\n",
            "Epoch 8/10\n",
            "16/16 [==============================] - 0s 917us/step - loss: 26.8895\n",
            "Epoch 9/10\n",
            "16/16 [==============================] - 0s 902us/step - loss: 26.4115\n",
            "Epoch 10/10\n",
            "16/16 [==============================] - 0s 918us/step - loss: 26.4252\n"
          ],
          "name": "stdout"
        },
        {
          "output_type": "execute_result",
          "data": {
            "text/plain": [
              "<tensorflow.python.keras.callbacks.History at 0x7efcb493fe80>"
            ]
          },
          "metadata": {
            "tags": []
          },
          "execution_count": 29
        }
      ]
    },
    {
      "cell_type": "code",
      "metadata": {
        "id": "o8QMw-Ni2eLK",
        "colab_type": "code",
        "colab": {
          "base_uri": "https://localhost:8080/",
          "height": 105
        },
        "outputId": "5d3a36d5-badb-44d2-e465-7f1c3d878829"
      },
      "source": [
        "# 모델 평가하기\n",
        "model.predict(x_train[0:5])"
      ],
      "execution_count": 22,
      "outputs": [
        {
          "output_type": "execute_result",
          "data": {
            "text/plain": [
              "array([[29.9337  ],\n",
              "       [24.674232],\n",
              "       [31.181107],\n",
              "       [30.017445],\n",
              "       [29.60292 ]], dtype=float32)"
            ]
          },
          "metadata": {
            "tags": []
          },
          "execution_count": 22
        }
      ]
    },
    {
      "cell_type": "code",
      "metadata": {
        "id": "KGarYfpz29X3",
        "colab_type": "code",
        "colab": {
          "base_uri": "https://localhost:8080/",
          "height": 122
        },
        "outputId": "d305b4fc-1e87-4114-fee9-d7fbc0b32b2d"
      },
      "source": [
        "print(y_train[0:5])"
      ],
      "execution_count": 24,
      "outputs": [
        {
          "output_type": "stream",
          "text": [
            "   medv\n",
            "0  24.0\n",
            "1  21.6\n",
            "2  34.7\n",
            "3  33.4\n",
            "4  36.2\n"
          ],
          "name": "stdout"
        }
      ]
    },
    {
      "cell_type": "code",
      "metadata": {
        "id": "RbRy_JAE3C1S",
        "colab_type": "code",
        "colab": {
          "base_uri": "https://localhost:8080/",
          "height": 246
        },
        "outputId": "1f2e0671-b91f-4da8-b62d-788e5da7f723"
      },
      "source": [
        "model.get_weights()"
      ],
      "execution_count": 25,
      "outputs": [
        {
          "output_type": "execute_result",
          "data": {
            "text/plain": [
              "[array([[-0.09112152],\n",
              "        [ 0.05174965],\n",
              "        [-0.04008499],\n",
              "        [ 2.8095284 ],\n",
              "        [ 1.5566422 ],\n",
              "        [ 5.1899033 ],\n",
              "        [-0.00902419],\n",
              "        [-0.9920294 ],\n",
              "        [ 0.1831149 ],\n",
              "        [-0.00978221],\n",
              "        [-0.38496193],\n",
              "        [ 0.01368573],\n",
              "        [-0.47687945]], dtype=float32), array([4.3254023], dtype=float32)]"
            ]
          },
          "metadata": {
            "tags": []
          },
          "execution_count": 25
        }
      ]
    }
  ]
}