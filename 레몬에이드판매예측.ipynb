{
  "nbformat": 4,
  "nbformat_minor": 0,
  "metadata": {
    "colab": {
      "name": "레몬에이드판매예측.ipynb",
      "provenance": [],
      "collapsed_sections": []
    },
    "kernelspec": {
      "name": "python3",
      "display_name": "Python 3"
    }
  },
  "cells": [
    {
      "cell_type": "markdown",
      "metadata": {
        "id": "zYXHO3REgnEl",
        "colab_type": "text"
      },
      "source": [
        "# 레몬에이드 판매 예측 모델 만들기\n",
        "지도학습의 실습으로 레몬에이드 판매 예측 모델 실습. 다음 4가지 단계를 거쳐 만들어 집니다.\n",
        "\n",
        "\n",
        "1.   과거의 데이터 준비하기 (pandas를 이용한 csv 파일 읽기)\n",
        "2.   모델의 구조 만들기\n",
        "3.  모델 학습 시키기\n",
        "4. 판매량 예측 하기\n",
        "\n"
      ]
    },
    {
      "cell_type": "code",
      "metadata": {
        "id": "RoozR0BZfcR6",
        "colab_type": "code",
        "colab": {}
      },
      "source": [
        "import pandas as pd\n",
        "import tensorflow as tf"
      ],
      "execution_count": 4,
      "outputs": []
    },
    {
      "cell_type": "code",
      "metadata": {
        "id": "19ZdCBesg-fK",
        "colab_type": "code",
        "colab": {
          "base_uri": "https://localhost:8080/",
          "height": 158
        },
        "outputId": "00da5ed3-48ee-4f0d-a49c-78082f0028ed"
      },
      "source": [
        "# 1. 과거의 데이터 준비하기.\n",
        "Lemonade_data = pd.read_csv('https://raw.githubusercontent.com/blackdew/tensorflow1/master/csv/lemonade.csv')\n",
        "print(Lemonade_data.head())\n",
        "print(Lemonade_data.columns)\n",
        "# feature 와 실제값 분류하기. (독립변수 , 종속변수)\n",
        "독립 = Lemonade_data[[\"온도\"]]\n",
        "종속 = Lemonade_data[[\"판매량\"]]"
      ],
      "execution_count": 29,
      "outputs": [
        {
          "output_type": "stream",
          "text": [
            "   온도  판매량\n",
            "0  20   40\n",
            "1  21   42\n",
            "2  22   44\n",
            "3  23   46\n",
            "4  24   48\n",
            "Index(['온도', '판매량'], dtype='object')\n",
            "<class 'pandas.core.frame.DataFrame'>\n"
          ],
          "name": "stdout"
        }
      ]
    },
    {
      "cell_type": "code",
      "metadata": {
        "id": "oXwtGn6LkROW",
        "colab_type": "code",
        "colab": {}
      },
      "source": [
        "# 모델 만들기\n",
        "feature = tf.keras.layers.Input(shape=[1])  # 내가 input할 데이터의 feature 갯수(독립 변수 갯수). shape=[1].  \n",
        "Y = tf.keras.layers.Dense(1)(feature)             # Dense(1) 은 내가 사용할 종속 변수의 갯수.\n",
        "model = tf.keras.models.Model(feature,Y)\n",
        "model.compile(loss = \"mse\")                 # 사용할 손실 함수는 mse 함수"
      ],
      "execution_count": 21,
      "outputs": []
    },
    {
      "cell_type": "code",
      "metadata": {
        "id": "dxwNRaX9laQh",
        "colab_type": "code",
        "colab": {
          "base_uri": "https://localhost:8080/",
          "height": 34
        },
        "outputId": "379ff794-7c88-462a-c1c2-5a1bdf2683bd"
      },
      "source": [
        "# 모델 학습 시키기\n",
        "model.fit(독립,종속,epochs=10000,verbose=0)      # epochs는 내가 반복하여 학습시킬 횟수, verbose=0 은 데이터 학습 과정을 출력하지 않음"
      ],
      "execution_count": 22,
      "outputs": [
        {
          "output_type": "execute_result",
          "data": {
            "text/plain": [
              "<tensorflow.python.keras.callbacks.History at 0x7f2badc1a160>"
            ]
          },
          "metadata": {
            "tags": []
          },
          "execution_count": 22
        }
      ]
    },
    {
      "cell_type": "code",
      "metadata": {
        "id": "VM29T6F7lqN2",
        "colab_type": "code",
        "colab": {
          "base_uri": "https://localhost:8080/",
          "height": 34
        },
        "outputId": "42b4c60f-075f-47b0-f8af-dbb2c4fb7452"
      },
      "source": [
        "# 모델 이용하기\n",
        "model.predict(독립)\n",
        "model.predict([[15]])       # 15도인 경우 예측"
      ],
      "execution_count": 24,
      "outputs": [
        {
          "output_type": "execute_result",
          "data": {
            "text/plain": [
              "array([[30.054916]], dtype=float32)"
            ]
          },
          "metadata": {
            "tags": []
          },
          "execution_count": 24
        }
      ]
    }
  ]
}