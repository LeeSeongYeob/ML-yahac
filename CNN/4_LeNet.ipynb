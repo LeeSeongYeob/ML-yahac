{
  "nbformat": 4,
  "nbformat_minor": 0,
  "metadata": {
    "colab": {
      "name": "4_LeNet.ipynb",
      "provenance": []
    },
    "kernelspec": {
      "name": "python3",
      "display_name": "Python 3"
    },
    "accelerator": "GPU"
  },
  "cells": [
    {
      "cell_type": "markdown",
      "metadata": {
        "id": "lDLmfDbShFaV"
      },
      "source": [
        "## LeNet 구현하기\r\n",
        "- minst dataset 이용"
      ]
    },
    {
      "cell_type": "code",
      "metadata": {
        "id": "Cjn5Qu-shCVu"
      },
      "source": [
        "import tensorflow as tf\r\n",
        "import pandas as pd"
      ],
      "execution_count": 1,
      "outputs": []
    },
    {
      "cell_type": "code",
      "metadata": {
        "colab": {
          "base_uri": "https://localhost:8080/"
        },
        "id": "VL2LdA7lhMgM",
        "outputId": "1631447c-c726-4efe-8a81-95f731a8f85f"
      },
      "source": [
        "(train_x, train_y) , _ = tf.keras.datasets.cifar10.load_data()\r\n",
        "print(train_x.shape, train_y.shape)\r\n",
        "train_y = train_y.reshape(50000)\r\n",
        "print(train_y.shape)\r\n",
        "train_y = pd.get_dummies(train_y)\r\n",
        "print(train_x.shape, train_y.shape)"
      ],
      "execution_count": 2,
      "outputs": [
        {
          "output_type": "stream",
          "text": [
            "Downloading data from https://www.cs.toronto.edu/~kriz/cifar-10-python.tar.gz\n",
            "170500096/170498071 [==============================] - 11s 0us/step\n",
            "(50000, 32, 32, 3) (50000, 1)\n",
            "(50000,)\n",
            "(50000, 32, 32, 3) (50000, 10)\n"
          ],
          "name": "stdout"
        }
      ]
    },
    {
      "cell_type": "code",
      "metadata": {
        "colab": {
          "base_uri": "https://localhost:8080/"
        },
        "id": "BoG2NgwDiJ2s",
        "outputId": "e74bf834-3de4-480c-b57b-aa36fadbe0b4"
      },
      "source": [
        "X = tf.keras.layers.Input(shape = [32, 32, 3])\r\n",
        "H = tf.keras.layers.Conv2D(6,kernel_size=5, activation='swish')(X)\r\n",
        "H = tf.keras.layers.MaxPool2D()(H)\r\n",
        "H = tf.keras.layers.Conv2D(16, kernel_size=5, activation='swish')(H)\r\n",
        "H = tf.keras.layers.MaxPool2D()(H)\r\n",
        "\r\n",
        "H = tf.keras.layers.Flatten()(H)\r\n",
        "H = tf.keras.layers.Dense(120, activation='swish')(H)\r\n",
        "H = tf.keras.layers.Dense(84, activation='swish')(H)\r\n",
        "Y = tf.keras.layers.Dense(10, activation='softmax')(H)\r\n",
        "model = tf.keras.models.Model(X,Y)\r\n",
        "model.compile(loss='categorical_crossentropy', metrics = 'accuracy')\r\n",
        "\r\n",
        "model.summary()"
      ],
      "execution_count": 3,
      "outputs": [
        {
          "output_type": "stream",
          "text": [
            "Model: \"model\"\n",
            "_________________________________________________________________\n",
            "Layer (type)                 Output Shape              Param #   \n",
            "=================================================================\n",
            "input_1 (InputLayer)         [(None, 32, 32, 3)]       0         \n",
            "_________________________________________________________________\n",
            "conv2d (Conv2D)              (None, 28, 28, 6)         456       \n",
            "_________________________________________________________________\n",
            "max_pooling2d (MaxPooling2D) (None, 14, 14, 6)         0         \n",
            "_________________________________________________________________\n",
            "conv2d_1 (Conv2D)            (None, 10, 10, 16)        2416      \n",
            "_________________________________________________________________\n",
            "max_pooling2d_1 (MaxPooling2 (None, 5, 5, 16)          0         \n",
            "_________________________________________________________________\n",
            "flatten (Flatten)            (None, 400)               0         \n",
            "_________________________________________________________________\n",
            "dense (Dense)                (None, 120)               48120     \n",
            "_________________________________________________________________\n",
            "dense_1 (Dense)              (None, 84)                10164     \n",
            "_________________________________________________________________\n",
            "dense_2 (Dense)              (None, 10)                850       \n",
            "=================================================================\n",
            "Total params: 62,006\n",
            "Trainable params: 62,006\n",
            "Non-trainable params: 0\n",
            "_________________________________________________________________\n"
          ],
          "name": "stdout"
        }
      ]
    },
    {
      "cell_type": "code",
      "metadata": {
        "colab": {
          "base_uri": "https://localhost:8080/"
        },
        "id": "wauuD9lNpMHT",
        "outputId": "e96d0671-9a36-4f54-c933-1aa2f68dc9aa"
      },
      "source": [
        "model.fit(train_x, train_y, epochs = 10)"
      ],
      "execution_count": 4,
      "outputs": [
        {
          "output_type": "stream",
          "text": [
            "Epoch 1/10\n",
            "1563/1563 [==============================] - 15s 6ms/step - loss: 2.1723 - accuracy: 0.2525\n",
            "Epoch 2/10\n",
            "1563/1563 [==============================] - 9s 6ms/step - loss: 1.5930 - accuracy: 0.4305\n",
            "Epoch 3/10\n",
            "1563/1563 [==============================] - 9s 6ms/step - loss: 1.4794 - accuracy: 0.4809\n",
            "Epoch 4/10\n",
            "1563/1563 [==============================] - 9s 6ms/step - loss: 1.4093 - accuracy: 0.5061\n",
            "Epoch 5/10\n",
            "1563/1563 [==============================] - 9s 6ms/step - loss: 1.3777 - accuracy: 0.5198\n",
            "Epoch 6/10\n",
            "1563/1563 [==============================] - 9s 6ms/step - loss: 1.3558 - accuracy: 0.5301\n",
            "Epoch 7/10\n",
            "1563/1563 [==============================] - 9s 6ms/step - loss: 1.3375 - accuracy: 0.5363\n",
            "Epoch 8/10\n",
            "1563/1563 [==============================] - 9s 6ms/step - loss: 1.3198 - accuracy: 0.5476\n",
            "Epoch 9/10\n",
            "1563/1563 [==============================] - 9s 6ms/step - loss: 1.3242 - accuracy: 0.5471\n",
            "Epoch 10/10\n",
            "1563/1563 [==============================] - 9s 6ms/step - loss: 1.3162 - accuracy: 0.5480\n"
          ],
          "name": "stdout"
        },
        {
          "output_type": "execute_result",
          "data": {
            "text/plain": [
              "<tensorflow.python.keras.callbacks.History at 0x7fa2bad32e48>"
            ]
          },
          "metadata": {
            "tags": []
          },
          "execution_count": 4
        }
      ]
    }
  ]
}