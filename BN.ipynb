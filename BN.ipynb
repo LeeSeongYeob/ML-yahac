{
  "nbformat": 4,
  "nbformat_minor": 0,
  "metadata": {
    "colab": {
      "name": "BNipynb",
      "provenance": [],
      "collapsed_sections": []
    },
    "kernelspec": {
      "name": "python3",
      "display_name": "Python 3"
    }
  },
  "cells": [
    {
      "cell_type": "markdown",
      "metadata": {
        "id": "0zzYESKy4di5",
        "colab_type": "text"
      },
      "source": [
        "##Deeplearning을 이용한 보스턴 집값예측\n",
        "- Batch normalization 을 이용한 모델 성능 향상"
      ]
    },
    {
      "cell_type": "code",
      "metadata": {
        "id": "JT1FpPj4zPgg",
        "colab_type": "code",
        "colab": {
          "base_uri": "https://localhost:8080/",
          "height": 34
        },
        "outputId": "8f69e392-9bb9-4afb-a9cb-5c2a7fe2c039"
      },
      "source": [
        "import pandas as pd\n",
        "import tensorflow as tf\n",
        "print(tf.__version__)"
      ],
      "execution_count": 1,
      "outputs": [
        {
          "output_type": "stream",
          "text": [
            "2.3.0\n"
          ],
          "name": "stdout"
        }
      ]
    },
    {
      "cell_type": "code",
      "metadata": {
        "id": "ztQbhxxY3zav",
        "colab_type": "code",
        "colab": {
          "base_uri": "https://localhost:8080/",
          "height": 34
        },
        "outputId": "fb191583-0879-427a-e984-bc530f307338"
      },
      "source": [
        "path = 'https://raw.githubusercontent.com/blackdew/tensorflow1/master/csv/boston.csv'\n",
        "boston = pd.read_csv(path)\n",
        " \n",
        "# 종속변수, 독립변수\n",
        "독립 = boston[['crim', 'zn', 'indus', 'chas', 'nox', \n",
        "            'rm', 'age', 'dis', 'rad', 'tax',\n",
        "            'ptratio', 'b', 'lstat']]\n",
        "종속 = boston[['medv']]\n",
        "print(독립.shape, 종속.shape)"
      ],
      "execution_count": 13,
      "outputs": [
        {
          "output_type": "stream",
          "text": [
            "(506, 13) (506, 1)\n"
          ],
          "name": "stdout"
        }
      ]
    },
    {
      "cell_type": "code",
      "metadata": {
        "id": "Ngjvlr5_4Auo",
        "colab_type": "code",
        "colab": {
          "base_uri": "https://localhost:8080/",
          "height": 386
        },
        "outputId": "9b1baad0-bf84-4d0d-ce80-c1b7074ea000"
      },
      "source": [
        "X = tf.keras.layers.Input(shape=[13])\n",
        "H = tf.keras.layers.Dense(8)(X)\n",
        "H = tf.keras.layers.BatchNormalization()(H)\n",
        "H = tf.keras.layers.Activation('swish')(H)\n",
        "\n",
        "\n",
        "H = tf.keras.layers.Dense(8)(H)\n",
        "H = tf.keras.layers.BatchNormalization()(H)\n",
        "H = tf.keras.layers.Activation('swish')(H)\n",
        "\n",
        "\n",
        "H = tf.keras.layers.Dense(8)(H)\n",
        "H = tf.keras.layers.BatchNormalization()(H)\n",
        "H = tf.keras.layers.Activation('swish')(H)\n",
        "\n",
        "\n",
        "y = tf.keras.layers.Dense(1)(H)\n",
        "model = tf.keras.Model(X,y)\n",
        "model.compile(loss='mse')\n",
        "\n",
        "model.fit(독립,종속,epochs=1000,verbose=0)\n",
        "model.fit(독립,종속,epochs=10)"
      ],
      "execution_count": 16,
      "outputs": [
        {
          "output_type": "stream",
          "text": [
            "Epoch 1/10\n",
            "16/16 [==============================] - 0s 2ms/step - loss: 11.8050\n",
            "Epoch 2/10\n",
            "16/16 [==============================] - 0s 2ms/step - loss: 12.4559\n",
            "Epoch 3/10\n",
            "16/16 [==============================] - 0s 1ms/step - loss: 10.4473\n",
            "Epoch 4/10\n",
            "16/16 [==============================] - 0s 1ms/step - loss: 12.0195\n",
            "Epoch 5/10\n",
            "16/16 [==============================] - 0s 1ms/step - loss: 11.7190\n",
            "Epoch 6/10\n",
            "16/16 [==============================] - 0s 1ms/step - loss: 10.2996\n",
            "Epoch 7/10\n",
            "16/16 [==============================] - 0s 1ms/step - loss: 10.5050\n",
            "Epoch 8/10\n",
            "16/16 [==============================] - 0s 1ms/step - loss: 9.4459\n",
            "Epoch 9/10\n",
            "16/16 [==============================] - 0s 1ms/step - loss: 11.5083\n",
            "Epoch 10/10\n",
            "16/16 [==============================] - 0s 2ms/step - loss: 12.3205\n"
          ],
          "name": "stdout"
        },
        {
          "output_type": "execute_result",
          "data": {
            "text/plain": [
              "<tensorflow.python.keras.callbacks.History at 0x7f3bcc5d8e80>"
            ]
          },
          "metadata": {
            "tags": []
          },
          "execution_count": 16
        }
      ]
    },
    {
      "cell_type": "code",
      "metadata": {
        "id": "HhfnBOZ94uo3",
        "colab_type": "code",
        "colab": {
          "base_uri": "https://localhost:8080/",
          "height": 545
        },
        "outputId": "3e731188-a223-40e4-ef74-0911dfd52a79"
      },
      "source": [
        "model.summary()"
      ],
      "execution_count": 6,
      "outputs": [
        {
          "output_type": "stream",
          "text": [
            "Model: \"functional_3\"\n",
            "_________________________________________________________________\n",
            "Layer (type)                 Output Shape              Param #   \n",
            "=================================================================\n",
            "input_2 (InputLayer)         [(None, 13)]              0         \n",
            "_________________________________________________________________\n",
            "dense_4 (Dense)              (None, 8)                 112       \n",
            "_________________________________________________________________\n",
            "batch_normalization_3 (Batch (None, 8)                 32        \n",
            "_________________________________________________________________\n",
            "activation_3 (Activation)    (None, 8)                 0         \n",
            "_________________________________________________________________\n",
            "dense_5 (Dense)              (None, 8)                 72        \n",
            "_________________________________________________________________\n",
            "batch_normalization_4 (Batch (None, 8)                 32        \n",
            "_________________________________________________________________\n",
            "activation_4 (Activation)    (None, 8)                 0         \n",
            "_________________________________________________________________\n",
            "dense_6 (Dense)              (None, 8)                 72        \n",
            "_________________________________________________________________\n",
            "batch_normalization_5 (Batch (None, 8)                 32        \n",
            "_________________________________________________________________\n",
            "activation_5 (Activation)    (None, 8)                 0         \n",
            "_________________________________________________________________\n",
            "dense_7 (Dense)              (None, 1)                 9         \n",
            "=================================================================\n",
            "Total params: 361\n",
            "Trainable params: 313\n",
            "Non-trainable params: 48\n",
            "_________________________________________________________________\n"
          ],
          "name": "stdout"
        }
      ]
    },
    {
      "cell_type": "markdown",
      "metadata": {
        "id": "cljkR87s6fvJ",
        "colab_type": "text"
      },
      "source": [
        "##Iris 품종 분류"
      ]
    },
    {
      "cell_type": "code",
      "metadata": {
        "id": "pH878F-T5Q9T",
        "colab_type": "code",
        "colab": {
          "base_uri": "https://localhost:8080/",
          "height": 34
        },
        "outputId": "cd577dea-2cba-4f73-ddfc-09168d5b81c6"
      },
      "source": [
        "path = 'https://raw.githubusercontent.com/blackdew/tensorflow1/master/csv/iris.csv'\n",
        "iris = pd.read_csv(path)\n",
        "iris = pd.get_dummies(iris)\n",
        "독립 = iris[['꽃잎길이', '꽃잎폭', '꽃받침길이', '꽃받침폭']]\n",
        "종속 = iris[['품종_setosa', '품종_versicolor', '품종_virginica']]\n",
        "print(독립.shape, 종속.shape)"
      ],
      "execution_count": 8,
      "outputs": [
        {
          "output_type": "stream",
          "text": [
            "(150, 4) (150, 3)\n"
          ],
          "name": "stdout"
        }
      ]
    },
    {
      "cell_type": "code",
      "metadata": {
        "id": "iiCWnV1E6RAi",
        "colab_type": "code",
        "colab": {
          "base_uri": "https://localhost:8080/",
          "height": 545
        },
        "outputId": "510bd801-0306-4a5d-a4f0-8608de513471"
      },
      "source": [
        "X = tf.keras.layers.Input(shape=[4])\n",
        "H = tf.keras.layers.Dense(8)(X)\n",
        "H = tf.keras.layers.BatchNormalization()(H)\n",
        "H = tf.keras.layers.Activation('swish')(H)\n",
        "\n",
        "H = tf.keras.layers.Dense(8)(H)\n",
        "H = tf.keras.layers.BatchNormalization()(H)\n",
        "H = tf.keras.layers.Activation('swish')(H)\n",
        "\n",
        "H = tf.keras.layers.Dense(8)(H)\n",
        "H = tf.keras.layers.BatchNormalization()(H)\n",
        "H = tf.keras.layers.Activation('swish')(H)\n",
        "\n",
        "Y = tf.keras.layers.Dense(3, activation='softmax')(H)\n",
        "model = tf.keras.models.Model(X, Y)\n",
        "model.compile(loss='categorical_crossentropy',\n",
        "              metrics='accuracy')\n",
        "model.summary()\n"
      ],
      "execution_count": 9,
      "outputs": [
        {
          "output_type": "stream",
          "text": [
            "Model: \"functional_7\"\n",
            "_________________________________________________________________\n",
            "Layer (type)                 Output Shape              Param #   \n",
            "=================================================================\n",
            "input_4 (InputLayer)         [(None, 4)]               0         \n",
            "_________________________________________________________________\n",
            "dense_12 (Dense)             (None, 8)                 40        \n",
            "_________________________________________________________________\n",
            "batch_normalization_9 (Batch (None, 8)                 32        \n",
            "_________________________________________________________________\n",
            "activation_9 (Activation)    (None, 8)                 0         \n",
            "_________________________________________________________________\n",
            "dense_13 (Dense)             (None, 8)                 72        \n",
            "_________________________________________________________________\n",
            "batch_normalization_10 (Batc (None, 8)                 32        \n",
            "_________________________________________________________________\n",
            "activation_10 (Activation)   (None, 8)                 0         \n",
            "_________________________________________________________________\n",
            "dense_14 (Dense)             (None, 8)                 72        \n",
            "_________________________________________________________________\n",
            "batch_normalization_11 (Batc (None, 8)                 32        \n",
            "_________________________________________________________________\n",
            "activation_11 (Activation)   (None, 8)                 0         \n",
            "_________________________________________________________________\n",
            "dense_15 (Dense)             (None, 3)                 27        \n",
            "=================================================================\n",
            "Total params: 307\n",
            "Trainable params: 259\n",
            "Non-trainable params: 48\n",
            "_________________________________________________________________\n"
          ],
          "name": "stdout"
        }
      ]
    },
    {
      "cell_type": "code",
      "metadata": {
        "id": "l3McHeJV6VUm",
        "colab_type": "code",
        "colab": {
          "base_uri": "https://localhost:8080/",
          "height": 386
        },
        "outputId": "e0513b9d-034e-48f5-92ab-d6adf3a2b742"
      },
      "source": [
        "model.fit(독립, 종속, epochs=1000,verbose=0)\n",
        "model.fit(독립, 종속, epochs=10)"
      ],
      "execution_count": 10,
      "outputs": [
        {
          "output_type": "stream",
          "text": [
            "Epoch 1/10\n",
            "5/5 [==============================] - 0s 2ms/step - loss: 0.0470 - accuracy: 0.9800\n",
            "Epoch 2/10\n",
            "5/5 [==============================] - 0s 2ms/step - loss: 0.0302 - accuracy: 0.9867\n",
            "Epoch 3/10\n",
            "5/5 [==============================] - 0s 2ms/step - loss: 0.0447 - accuracy: 0.9867\n",
            "Epoch 4/10\n",
            "5/5 [==============================] - 0s 2ms/step - loss: 0.0521 - accuracy: 0.9800\n",
            "Epoch 5/10\n",
            "5/5 [==============================] - 0s 2ms/step - loss: 0.0317 - accuracy: 0.9867\n",
            "Epoch 6/10\n",
            "5/5 [==============================] - 0s 2ms/step - loss: 0.0562 - accuracy: 0.9667\n",
            "Epoch 7/10\n",
            "5/5 [==============================] - 0s 2ms/step - loss: 0.0410 - accuracy: 0.9800\n",
            "Epoch 8/10\n",
            "5/5 [==============================] - 0s 2ms/step - loss: 0.0550 - accuracy: 0.9733\n",
            "Epoch 9/10\n",
            "5/5 [==============================] - 0s 2ms/step - loss: 0.0346 - accuracy: 0.9800\n",
            "Epoch 10/10\n",
            "5/5 [==============================] - 0s 2ms/step - loss: 0.0604 - accuracy: 0.9733\n"
          ],
          "name": "stdout"
        },
        {
          "output_type": "execute_result",
          "data": {
            "text/plain": [
              "<tensorflow.python.keras.callbacks.History at 0x7f3bcfa82470>"
            ]
          },
          "metadata": {
            "tags": []
          },
          "execution_count": 10
        }
      ]
    }
  ]
}